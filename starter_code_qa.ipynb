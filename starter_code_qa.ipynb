{
 "cells": [
  {
   "cell_type": "markdown",
   "metadata": {
    "collapsed": true
   },
   "source": [
    "##  搭建一个基于检索的问答系统"
   ]
  },
  {
   "cell_type": "code",
   "execution_count": null,
   "metadata": {
    "collapsed": true
   },
   "outputs": [],
   "source": [
    "#本次项目的目标是搭建一个基于检索式的简单的问答系统。"
   ]
  },
  {
   "cell_type": "code",
   "execution_count": null,
   "metadata": {
    "collapsed": true
   },
   "outputs": [],
   "source": [
    "#通过此项目，你将会有机会掌握以下几个知识点：\n",
    "#1. 字符串操作   2. 文本预处理技术（词过滤，标准化）   3. 文本的表示（tf-idf, word2vec)  4. 文本相似度计算  5. 文本高效检索\n",
    "\n",
    "#此项目需要的数据：\n",
    "#1. dev-v2.0.json: 这个数据包含了问题和答案的pair， 但是以JSON格式存在，需要编写parser来提取出里面的问题和答案。 \n",
    "#2. glove.6B: 这个文件需要从网上下载，下载地址为：https://nlp.stanford.edu/projects/glove/， 请使用d=100的词向量"
   ]
  },
  {
   "cell_type": "code",
   "execution_count": null,
   "metadata": {
    "collapsed": true
   },
   "outputs": [],
   "source": [
    "#举例\n",
    "#问答系统所需要的数据已经提供，对于每一个问题都可以找得到相应的答案，所以可以理解为每一个样本数据是 <问题、答案>。 那系统的核心是当用户输入一个问题的时候，首先要找到跟这个问题最相近的已经存储在库里的问题，然后直接返回相应的答案即可。 举一个简单的例子：\n",
    "\n",
    "#假设我们的库里面已有存在以下几个<问题,答案>：\n",
    "#<\"贪心学院主要做什么方面的业务？”， “他们主要做人工智能方面的教育”>\n",
    "#<“国内有哪些做人工智能教育的公司？”， “贪心学院”>\n",
    "#<\"人工智能和机器学习的关系什么？\", \"其实机器学习是人工智能的一个范畴，很多人工智能的应用要基于机器学习的技术\">\n",
    "#<\"人工智能最核心的语言是什么？\"， ”Python“>"
   ]
  },
  {
   "cell_type": "code",
   "execution_count": null,
   "metadata": {},
   "outputs": [],
   "source": [
    "#假设一个用户往系统中输入了问题 “贪心学院是做什么的？”， 那这时候系统先去匹配最相近的“已经存在库里\n",
    "#当我们定位到这个问题之后，直接返回它的答案 “他们主要做人工智能方面的教育”就可以了。 所以这里的核心问题可以归结为计算两个问句（query）之间的相似度。"
   ]
  },
  {
   "cell_type": "code",
   "execution_count": null,
   "metadata": {},
   "outputs": [],
   "source": [
    "#在本次项目中，你会频繁地使用到sklearn这个机器学习库。具体安装请见：http://scikit-learn.org/stable/install.html  sklearn包含了各类机器学习算法和数据处理工具，包括本项目需要使用的词袋模型，均可以在sklearn工具包中找得到。 另外，本项目还需要用到分词工具jieba, 具体使用方法请见 https://github.com/fxsjy/jieba"
   ]
  },
  {
   "cell_type": "markdown",
   "metadata": {},
   "source": []
  },
  {
   "cell_type": "markdown",
   "metadata": {},
   "source": []
  },
  {
   "cell_type": "markdown",
   "metadata": {},
   "source": [
    "\n",
    "\n"
   ]
  },
  {
   "cell_type": "markdown",
   "metadata": {},
   "source": []
  },
  {
   "cell_type": "markdown",
   "metadata": {},
   "source": [
    "### Part 1  第一部分： 读取文件，文本的处理。"
   ]
  },
  {
   "cell_type": "code",
   "execution_count": null,
   "metadata": {
    "collapsed": true
   },
   "outputs": [],
   "source": [
    "# 读取给定的语料库，并把问题列表和答案列表分别写入到 qlist, alist 里面。 务必要让每一个问题和答案对应起来，并确保长度一致\n",
    "# TODO: 对于qlist, alist做文本预处理操作。 可以考虑以下几种操作：\n",
    "#       1. 停用词过滤 （去网上搜一下 \"english stop words list\"，会出现很多包含停用词库的网页）   \n",
    "#       2. 转换成lower_case： 这是一个基本的操作   \n",
    "#       3. 去掉一些无用的符号： 比如连续的感叹号！！！， 或者一些奇怪的单词。\n",
    "#       4. 去掉出现频率很低的词：比如出现次数少于10,20....\n",
    "#       5. 对于数字的处理： 分词完只有有些单词可能就是数字比如44，415，把所有这些数字都看成是一个单词，这个新的单词我们可以定义为 \"#number\"\n",
    "#       6. stemming（利用porter stemming): 因为是英文，所以stemming也是可以做的工作\n",
    "#       7. 其他（如果有的话）\n",
    "#       请注意，不一定要按照上面的顺序来处理，具体处理的顺序思考一下，然后选择一个合理的顺序\n",
    "\n",
    "#qlist, alist =    # 更新后的"
   ]
  },
  {
   "cell_type": "code",
   "execution_count": null,
   "metadata": {
    "collapsed": true
   },
   "outputs": [],
   "source": [
    "# TODO: 在前面步骤里，我们删除了出现次数比较少的单词，那你选择的阈值是多少（小于多少的去掉？）， 这个阈值是根据什么来选择的？ \n",
    "# 小于10的单词去掉，阀值根据对17个问句的观察，选择出现次数少而且又不影响句意的单词去掉"
   ]
  },
  {
   "cell_type": "code",
   "execution_count": 6,
   "metadata": {},
   "outputs": [],
   "source": [
    "import json\n",
    "import nltk\n",
    "import numpy as np\n",
    "import scipy.spatial.distance as distance\n",
    "from nltk.corpus import stopwords\n",
    "from nltk.probability import FreqDist\n",
    "from nltk.stem import WordNetLemmatizer\n",
    "from sklearn.feature_extraction.text import TfidfVectorizer\n",
    "from matplotlib import pyplot as plt\n",
    "\n",
    "# '停用词列表'为所有函数共用(使用nltk停用词)\n",
    "#nltk.download('wordnet')\n",
    "stopWords = stopwords.words(\"english\")\n",
    "customStopWords = [\"when\", \"what\", \"how\", \"where\",\"the\"]\n",
    "stopWords.extend(customStopWords)\n",
    "\n",
    "#预处理 数据清洗 停用词 小写 去标点\n",
    "def clean_words(strWords):\n",
    "    wordList = nltk.word_tokenize(strWords)\n",
    "    lemmatizer = WordNetLemmatizer()\n",
    "    filteredWords = [lemmatizer.lemmatize(word.lower()) for word in wordList if word.isalpha() and word.lower() not in stopWords]\n",
    "    return filteredWords\n",
    "    print(filteredWords)\n",
    "    \n",
    "# 读取数据生成新的字典\n",
    "def read_corpus(filePath):\n",
    "    # 问题列表\n",
    "    qList = []\n",
    "    # 问题的关键词列表\n",
    "    qList_kw = []\n",
    "    # 答案列表\n",
    "    aList = []\n",
    "    with open(filePath) as json_data:\n",
    "        d = json.load(json_data)\n",
    "        for dataSet in d[\"data\"]:\n",
    "            for paragraphSet in dataSet[\"paragraphs\"]:\n",
    "                for qaPair in paragraphSet[\"qas\"]:\n",
    "                    # 仅提取is_impossible=False的问答对\n",
    "                    if qaPair[\"is_impossible\"] == False:\n",
    "                        strQuestion = qaPair[\"question\"]\n",
    "                        qList.append(strQuestion)\n",
    "                        qList_kw.append(clean_words(strQuestion))\n",
    "                        aList.append(qaPair[\"answers\"][0][\"text\"])\n",
    "    return qList_kw, qList, aList\n",
    "\n",
    "qList_kw, questionList, answerList = read_corpus(\"./data/train-v2.0.json\")\n"
   ]
  },
  {
   "cell_type": "code",
   "execution_count": 10,
   "metadata": {},
   "outputs": [
    {
     "name": "stdout",
     "output_type": "stream",
     "text": [
      "What areas did Beyonce compete in when she was growing up?\n",
      "singing and dancing\n"
     ]
    }
   ],
   "source": [
    "#根据下标把问题和答案关联一起以下标方式输出\n",
    "#print(qList_kw[1])\n",
    "print(questionList[1])\n",
    "print(answerList[1])"
   ]
  },
  {
   "cell_type": "code",
   "execution_count": 59,
   "metadata": {},
   "outputs": [],
   "source": []
  },
  {
   "cell_type": "code",
   "execution_count": 60,
   "metadata": {},
   "outputs": [],
   "source": []
  },
  {
   "cell_type": "code",
   "execution_count": null,
   "metadata": {},
   "outputs": [],
   "source": []
  },
  {
   "cell_type": "code",
   "execution_count": null,
   "metadata": {},
   "outputs": [],
   "source": []
  },
  {
   "cell_type": "markdown",
   "metadata": {},
   "source": [
    "### Part 2 理解数据（可视化分析/统计信息）\n",
    "对数据的理解是任何AI工作的第一步，需要充分对手上的数据有个更直观的理解。 "
   ]
  },
  {
   "cell_type": "code",
   "execution_count": 63,
   "metadata": {
    "collapsed": true
   },
   "outputs": [
    {
     "data": {
      "image/png": "[encoded data removed]",
      "text/plain": [
       "<Figure size 432x288 with 1 Axes>"
      ]
     },
     "metadata": {
      "needs_background": "light"
     },
     "output_type": "display_data"
    }
   ],
   "source": [
    "\n",
    "# TODO: 统计一下在qlist 总共出现了多少个单词？ 总共出现了多少个不同的单词？需要做简单的分词，对于英文我们根据空格来分词即可，"
   ]
  },
  {
   "cell_type": "code",
   "execution_count": null,
   "metadata": {
    "collapsed": true
   },
   "outputs": [],
   "source": [
    "# TODO： 从上面的图中能观察到什么样的现象？ 这样的一个图的形状跟一个非常著名的函数形状很类似，能所出此定理吗？ \n",
    "\n",
    "#通过观察词频的分布类似有zip's law, 是一个很著名的现象，包括在社交网络里面（比如大V的好友数非常多，其他人的好友数指数级下降）"
   ]
  },
  {
   "cell_type": "code",
   "execution_count": null,
   "metadata": {},
   "outputs": [],
   "source": [
    "# TODO: 在qlist和alist里出现次数最多的TOP 10单词分别是什么？ \n",
    "#出现最多的十个单词见图中单词   "
   ]
  },
  {
   "cell_type": "code",
   "execution_count": 15,
   "metadata": {},
   "outputs": [
    {
     "name": "stdout",
     "output_type": "stream",
     "text": [
      "单词总数:  454126\n",
      "不同单词数:  30665\n"
     ]
    },
    {
     "data": {
      "image/png": "[encoded data removed]",
      "text/plain": [
       "<Figure size 432x288 with 1 Axes>"
      ]
     },
     "metadata": {
      "needs_background": "light"
     },
     "output_type": "display_data"
    }
   ],
   "source": [
    "# TODO: 统计一下qlist中每个单词出现的频率，并把这些频率排一下序，然后画成plot. 比如总共出现了总共7个不同单词，而且每个单词出现的频率为 4, 5,10,2, 1, 1,1\n",
    "#       把频率排序之后就可以得到(从大到小) 10, 5, 4, 2, 1, 1, 1. 然后把这7个数plot即可（从大到小）\n",
    "#       需要使用matplotlib里的plot函数。y轴是词频\n",
    "\n",
    "def plot_words(wordList):\n",
    "    fDist = FreqDist(wordList)\n",
    "    #print(fDist.most_common())\n",
    "    print(\"单词总数: \",fDist.N())\n",
    "    print(\"不同单词数: \",fDist.B())\n",
    "    fDist.plot(10)\n",
    "all_question = \" \".join(questionList)\n",
    "qWordLst = clean_words(all_question)\n",
    "plot_words(qWordLst)"
   ]
  },
  {
   "cell_type": "markdown",
   "metadata": {},
   "source": [
    "\n"
   ]
  },
  {
   "cell_type": "markdown",
   "metadata": {},
   "source": [
    "### 3 文本表示\n",
    "当我们做完关键的预处理过程之后，就需要把每一个文本转换成向量。"
   ]
  },
  {
   "cell_type": "code",
   "execution_count": 49,
   "metadata": {},
   "outputs": [],
   "source": [
    "# TODO: 把qlist中的每一个问题字符串转换成tf-idf向量, 转换之后的结果存储在X矩阵里。 X的大小是： N* D的矩阵。 这里N是问题的个数（样本个数），\n",
    "#       D是字典库的大小。 \n",
    "#vectorizer =  # 定一个tf-idf的vectorizer\n",
    "#X =   # 结果存放在X矩阵"
   ]
  },
  {
   "cell_type": "code",
   "execution_count": 4,
   "metadata": {},
   "outputs": [
    {
     "name": "stdout",
     "output_type": "stream",
     "text": [
      "0.999076499082421\n"
     ]
    }
   ],
   "source": [
    "# TODO: 矩阵X有什么特点？ 计算一下它的稀疏度\n",
    "def calculate_sparse(questionList):\n",
    "    # 每一个问题转换成tf-idf向量\n",
    "    vectorizer = TfidfVectorizer(smooth_idf=False, lowercase=True, stop_words=stopWords)\n",
    "    # 得到的是csr_matrix型矩阵（压缩后的稀疏矩阵）\n",
    "    vectorizer.fit_transform(questionList)\n",
    "    # 获取词列表\n",
    "    keywordList = vectorizer.get_feature_names()\n",
    "    wordNum = len(keywordList)\n",
    "    # 获取文档总数（问题总数）\n",
    "    docNum = len(questionList)\n",
    "    #print(docNum)\n",
    "    # 计算矩阵大小\n",
    "    matrixSize = wordNum * docNum\n",
    "    #print(matrixSize)\n",
    "    # 计算零元素个数\n",
    "    zeroElementNum = 0\n",
    "    for question in questionList:\n",
    "        for tmpWord in keywordList:\n",
    "            if tmpWord not in question:\n",
    "                zeroElementNum += 1\n",
    "\n",
    "    # 根据tf-idf公式，若tf为0，那么其tf-idf值必然为零 tf-idf矩阵的稀疏度为\n",
    "    return zeroElementNum / matrixSize\n",
    "sparseDeg = calculate_sparse(questionList)\n",
    "print (sparseDeg)  # 打印出稀疏度"
   ]
  },
  {
   "cell_type": "code",
   "execution_count": 6,
   "metadata": {},
   "outputs": [],
   "source": [
    "# 两个问题之间的相似度(余弦相似度计算)\n",
    "def calcaute_cosSimilarity(inputQuestion, questionDict):\n",
    "    simiVDict = {}\n",
    "    vectorizer = TfidfVectorizer(smooth_idf=False, lowercase=True, stop_words=stopWords)\n",
    "    for idx, question in questionDict.items():\n",
    "        tfidf = vectorizer.fit_transform([inputQuestion, question])\n",
    "        simiValue = ((tfidf * tfidf.T).A)[0, 1]\n",
    "        if simiValue > 0:\n",
    "            simiVDict[idx] = simiValue\n",
    "    return simiVDict"
   ]
  },
  {
   "cell_type": "code",
   "execution_count": null,
   "metadata": {},
   "outputs": [],
   "source": []
  },
  {
   "cell_type": "markdown",
   "metadata": {},
   "source": [
    "### 4 对于用户的输入问题，找到相似度最高的TOP5问题，并把5个潜在的答案做返回"
   ]
  },
  {
   "cell_type": "code",
   "execution_count": 14,
   "metadata": {},
   "outputs": [],
   "source": [
    "\n",
    "# 给定用户输入的问题 input_q, 返回最有可能的TOP 5问题。这里面需要做到以下几点：\n",
    "# 1. 对于用户的输入 input_q 首先做一系列的预处理，然后再转换成tf-idf向量（利用上面的vectorizer)\n",
    "# 2. 计算跟每个库里的问题之间的相似度\n",
    "# 3. 找出相似度最高的top5问题的答案\n",
    "#  \"\"\"    \n",
    "#   top_idxs = []  # top_idxs存放相似度最高的（存在qlist里的）问题的下表     \n",
    "#   return alist[top_idxs]  # 返回相似度最高的问题对应的答案，作为TOP5答案  \n",
    "def top5results(inputQuestion):\n",
    "    questionDict = {}\n",
    "    for idx, question in enumerate(questionList):\n",
    "        questionDict[idx] = question\n",
    "    simiVDict = calcaute_cosSimilarity(inputQuestion, questionDict)\n",
    "    d = sorted(simiVDict, key=simiVDict.get, reverse=True)\n",
    "    #print(d)\n",
    "    # Top5最相似问题和对应的答案\n",
    "    print(\"Top5相似-基于余弦相似度\")\n",
    "    for idx in d[:5]:\n",
    "        print(\"问题： \" + questionList[idx])\n",
    "        print(\"答案： \" + answerList[idx])"
   ]
  },
  {
   "cell_type": "code",
   "execution_count": 16,
   "metadata": {},
   "outputs": [
    {
     "name": "stdout",
     "output_type": "stream",
     "text": [
      "[772, 782, 757, 997, 844, 1045, 1078, 860, 1105, 793, 911, 32283, 924, 79289, 753, 22611, 29518, 41160, 42282, 45436, 71286, 71487, 74324, 75513, 84038, 1000, 72065, 975, 754, 756, 817, 818, 834, 980, 1262, 4883, 8064, 9641, 12591, 14219, 17095, 21614, 27151, 28171, 28529, 29498, 42207, 42492, 43305, 47337, 47411, 47564, 51409, 59449, 59524, 59554, 60067, 60516, 61549, 61564, 61566, 61575, 61613, 61622, 61625, 61626, 61627, 61633, 61637, 61670, 61696, 61697, 61709, 61710, 61850, 61888, 61903, 61919, 61928, 61932, 65422, 71151, 71153, 71289, 71295, 71404, 73233, 77524, 79361, 79362, 82405, 83782, 85986, 755, 762, 776, 790, 809, 833, 846, 849, 861, 904, 993, 1017, 1109, 1110, 1114, 1237, 1270, 1685, 4908, 5493, 5591, 6056, 6716, 9056, 9831, 10505, 10509, 11566, 14220, 14667, 14956, 15389, 15851, 18818, 22609, 22626, 27885, 28623, 29631, 30114, 30259, 31475, 31975, 32382, 33019, 34997, 35677, 37372, 38238, 39073, 39328, 39331, 40999, 43316, 44769, 46382, 47347, 47565, 47569, 47846, 47865, 48962, 51030, 51399, 53203, 56677, 57507, 57930, 58101, 60772, 61551, 61559, 61560, 61581, 61614, 61624, 61628, 61632, 61646, 61671, 61675, 61679, 61691, 61706, 61707, 61730, 61734, 61735, 61741, 61742, 61753, 61759, 61762, 61765, 61791, 61796, 61797, 61839, 61845, 61849, 61861, 61871, 61873, 61875, 61876, 61887, 61889, 61900, 61908, 63226, 63255, 63745, 64811, 65516, 65761, 70297, 71075, 71288, 74028, 75512, 76008, 80146, 81694, 81813, 83059, 83844, 84470, 84474, 70, 774, 789, 806, 820, 858, 865, 874, 903, 935, 937, 989, 999, 1003, 1044, 1077, 3960, 4385, 4400, 4406, 4887, 6057, 6717, 7158, 7381, 8012, 8187, 9138, 9909, 10466, 10645, 12545, 14946, 16549, 21048, 21532, 22352, 24211, 25372, 29519, 29789, 29984, 30128, 30299, 30313, 30329, 30345, 30543, 30545, 31528, 31997, 32431, 32835, 33306, 33323, 34675, 34998, 35775, 35777, 37407, 37805, 39812, 41066, 41162, 41860, 43306, 44089, 44940, 45718, 45972, 46379, 46383, 46614, 47832, 47840, 47856, 47858, 48190, 49193, 49242, 49292, 49414, 49451, 49465, 51313, 51372, 51408, 51431, 51459, 53760, 55072, 56770, 56818, 58104, 60501, 60702, 60770, 60774, 60906, 61557, 61562, 61639, 61672, 61676, 61689, 61699, 61705, 61716, 61717, 61719, 61733, 61782, 61784, 61790, 61792, 61798, 61827, 61836, 61855, 61857, 61868, 61874, 61899, 61909, 61914, 61926, 62025, 65059, 67809, 68380, 68401, 68412, 69719, 70146, 70385, 71296, 71297, 73236, 74035, 75709, 76130, 76187, 77180, 80053, 80147, 80415, 80767, 82480, 84469, 84472, 84473, 84476, 84516, 84857, 86497, 58, 808, 845, 847, 862, 876, 886, 888, 901, 914, 925, 950, 962, 977, 979, 991, 994, 995, 996, 1028, 1046, 1056, 1057, 1059, 1067, 1092, 1093, 1143, 1269, 1449, 2517, 2519, 2911, 5492, 5729, 6722, 7180, 8254, 8734, 8931, 9642, 11415, 12991, 13411, 13551, 13813, 13816, 13819, 14496, 16097, 16556, 17395, 22351, 22610, 22621, 22629, 24212, 25747, 30122, 30127, 30176, 30273, 30312, 30344, 30382, 30498, 30767, 32278, 32324, 32581, 32910, 33046, 33334, 34412, 34678, 36116, 37665, 38071, 38711, 39320, 39326, 40019, 40067, 40293, 40307, 40308, 41000, 41002, 41281, 42436, 42734, 44619, 44620, 45305, 46069, 46071, 48963, 49464, 49543, 49548, 53806, 55036, 56831, 58095, 58271, 58957, 60759, 61571, 61582, 61607, 61629, 61648, 61678, 61698, 61704, 61708, 61721, 61729, 61737, 61748, 61750, 61769, 61817, 61833, 61847, 61878, 64695, 66548, 67718, 68877, 69133, 70273, 70575, 71950, 72368, 75393, 75394, 75399, 75514, 75676, 75966, 76117, 76694, 76768, 77318, 80394, 80486, 80766, 84135, 84477, 775, 792, 835, 848, 859, 875, 887, 889, 890, 910, 930, 936, 949, 951, 963, 990, 998, 1001, 1008, 1018, 1029, 1039, 1069, 1079, 1101, 1103, 2465, 4603, 6054, 6055, 6718, 8826, 12927, 13039, 13280, 13460, 13663, 13665, 15855, 18982, 21913, 22628, 23397, 26224, 30124, 30343, 30377, 30544, 31402, 32499, 33322, 33755, 35102, 36710, 37230, 37376, 38016, 38072, 38395, 38396, 38568, 38662, 38693, 39074, 39075, 40036, 40294, 40309, 43303, 43334, 45163, 45495, 46068, 47363, 47768, 49294, 51322, 51455, 51682, 53817, 53893, 56798, 58109, 61598, 61599, 61693, 61715, 61724, 61744, 61758, 61834, 61905, 61915, 64651, 66097, 67837, 68143, 68991, 69132, 70443, 71633, 73605, 74323, 75398, 75400, 75923, 76763, 77181, 79681, 80771, 83495, 84478, 86224, 773, 791, 821, 902, 976, 1007, 1009, 1010, 1026, 1027, 1040, 1081, 1094, 1125, 1946, 3968, 4412, 4595, 4601, 8870, 16586, 19403, 21135, 22513, 22606, 22630, 23194, 25154, 26007, 27884, 29950, 30136, 30261, 30381, 30432, 30905, 32218, 32222, 32460, 32520, 33557, 34928, 38694, 39063, 39330, 40062, 40085, 40954, 41004, 45475, 45938, 46070, 46437, 47827, 47828, 49541, 51460, 54278, 55711, 61335, 61525, 61688, 61718, 61757, 61773, 64696, 65088, 65238, 67512, 75892, 76211, 80113, 80772, 83013, 84358, 807, 965, 978, 1015, 1047, 1058, 1068, 1080, 4264, 8121, 8871, 8882, 13230, 16369, 16516, 30126, 30314, 30376, 30406, 30410, 32003, 37787, 38794, 41001, 41617, 44864, 52154, 60667, 64741, 68885, 69312, 69650, 70114, 70445, 74508, 80145, 80768, 84126, 86377, 61732, 61822, 912, 952, 1041, 1550, 3253, 26905, 29983, 30348, 30364, 30365, 30480, 32477, 34913, 36298, 36592, 40303, 40938, 40939, 47826, 61577, 61731, 61907, 75668, 75710, 75711, 83011, 84127, 84420, 938, 20415, 39018, 4260, 21249, 30363, 32343, 32519, 40814, 77392, 83009, 75995, 19241, 30244, 38798, 47266, 55450, 80142, 32574, 58374, 80148, 85219, 32285, 61843, 45268, 49013, 32397, 24254]\n",
      "Top5相似-基于余弦相似度\n",
      "问题： At what age did Frédéric move to Paris?\n",
      "答案： 21\n",
      "问题： At what age did Chopin move to Paris?\n",
      "答案： 21\n",
      "问题： At what age did Frédéric depart from Poland?\n",
      "答案： 20\n",
      "问题： Who was Frédéric's trusted adviser while in Paris?\n",
      "答案： Albert Grzymała\n",
      "问题： During what month did Frédéric move to Warsaw with his family?\n",
      "答案： October\n",
      "None\n"
     ]
    }
   ],
   "source": [
    "# TODO: 编写几个测试用例，并输出结果\n",
    "print (top5results(\"At what age did Frédéric move to Paris?\"))"
   ]
  },
  {
   "cell_type": "markdown",
   "metadata": {},
   "source": [
    "###5 利用倒排表的优化。 \n",
    "上面的算法，一个最大的缺点是每一个用户问题都需要跟库里的所有的问题都计算相似度。假设我们库里的问题非常多，这将是效率非常低的方法。 这里面一个方案是通过倒排表的方式，先从库里面找到跟当前的输入类似的问题描述。然后针对于这些candidates问题再做余弦相似度的计算。这样会节省大量的时间。"
   ]
  },
  {
   "cell_type": "code",
   "execution_count": 21,
   "metadata": {},
   "outputs": [],
   "source": [
    "# TODO: 基于倒排表的优化。在这里，我们可以定义一个类似于hash_map, 比如 inverted_index = {}， 然后存放包含每一个关键词的文档出现在了什么位置，\n",
    "#       也就是，通过关键词的搜索首先来判断包含这些关键词的文档（比如出现至少一个），然后对于candidates问题做相似度比较。\n",
    "def invert_idxTable(qList_kw):  # 定一个一个简单的倒排表\n",
    "    invertTable = {}\n",
    "    for idx, tmpLst in enumerate(qList_kw):\n",
    "        for kw in tmpLst:\n",
    "            if kw in invertTable.keys():\n",
    "                invertTable[kw].append(idx)\n",
    "            else:\n",
    "                invertTable[kw] = [idx]\n",
    "    return invertTable\n",
    "# 计算倒排表\n",
    "invertTable = invert_idxTable(qList_kw) \n",
    "#    给定用户输入的问题 input_q, 返回最有可能的TOP 5问题。这里面需要做到以下几点：\n",
    "#    1. 利用倒排表来筛选 candidate\n",
    "#    2. 对于用户的输入 input_q 首先做一系列的预处理，然后再转换成tf-idf向量（利用上面的vectorizer)\n",
    "#    3. 计算跟每个库里的问题之间的相似度\n",
    "#    4. 找出相似度最高的top5问题的答案\n",
    "def filter_questionByInvertTab(inputQuestionKW, questionList, invertTable):\n",
    "    idxLst = []\n",
    "    questionDict = {}\n",
    "    for kw in inputQuestionKW:\n",
    "        if kw in invertTable.keys():\n",
    "            idxLst.extend(invertTable[kw])\n",
    "    idxSet = set(idxLst)\n",
    "    for idx in idxSet:\n",
    "        questionDict[idx] = questionList[idx]\n",
    "    return questionDict\n",
    "\n",
    "def top5results_invidx(inputQuestion):\n",
    "    inputQuestionKW = clean_words(inputQuestion)\n",
    "    filteredQuestionDict = filter_questionByInvertTab(inputQuestionKW, questionList, invertTable)\n",
    "    # 计算相似度\n",
    "    simiVDict = calcaute_cosSimilarity(inputQuestion, filteredQuestionDict)\n",
    "    d = sorted(simiVDict, key=simiVDict.get, reverse=True)\n",
    "    #print(d)\n",
    "    # Top5最相似问题，及它们对应的答案\n",
    "    print(\"Top5相似-基于倒排表\")\n",
    "    for idx in d[:5]:\n",
    "        print(\"问题： \" + questionList[idx])\n",
    "        print(\"答案： \" + answerList[idx])"
   ]
  },
  {
   "cell_type": "code",
   "execution_count": 22,
   "metadata": {},
   "outputs": [
    {
     "name": "stdout",
     "output_type": "stream",
     "text": [
      "[772, 782, 757, 997, 844, 1045, 1078, 860, 1105, 793, 911, 32283, 924, 79289, 84038, 22611, 41160, 45436, 74324, 753, 29518, 42282, 71286, 75513, 71487, 1000, 72065, 975, 59449, 61549, 61564, 61566, 59524, 61575, 59554, 61613, 61622, 61625, 61626, 61627, 61633, 61637, 51409, 61670, 47337, 61696, 61697, 61709, 61710, 43305, 12591, 47411, 61850, 61888, 47564, 61903, 61919, 82405, 61928, 61932, 27151, 60067, 17095, 754, 756, 4883, 817, 818, 29498, 834, 980, 60516, 21614, 42207, 1262, 9641, 71151, 71153, 42492, 79361, 79362, 28171, 73233, 71289, 77524, 71404, 83782, 28529, 8064, 14219, 65422, 85986, 40999, 22609, 22626, 61551, 61559, 61560, 61581, 39073, 57507, 61614, 34997, 61624, 61628, 61632, 51399, 61646, 65761, 76008, 61671, 47347, 61679, 33019, 63745, 10505, 10509, 61706, 61707, 61730, 61734, 74028, 61735, 61741, 61742, 43316, 61753, 61759, 61762, 61765, 14667, 61791, 61796, 61797, 18818, 61839, 61845, 61849, 39328, 39331, 61861, 61871, 61873, 61875, 61876, 61887, 61889, 47565, 61900, 47569, 61908, 84470, 37372, 84474, 6716, 57930, 14956, 70297, 31475, 47846, 58101, 47865, 762, 755, 776, 790, 809, 4908, 833, 846, 849, 35677, 861, 9056, 904, 29631, 993, 1017, 15389, 61675, 1110, 1109, 1114, 61691, 83059, 1237, 31975, 27885, 1270, 64811, 11566, 46382, 38238, 60772, 56677, 5493, 30114, 71075, 5591, 15851, 30259, 9831, 71288, 32382, 1685, 44769, 75512, 63226, 63255, 81694, 80146, 48962, 51030, 83844, 14220, 81813, 6056, 28623, 53203, 65516, 49193, 32835, 70, 69719, 49242, 41066, 51313, 61557, 61562, 49292, 16549, 51372, 34998, 80053, 61639, 41162, 51408, 67809, 10466, 51431, 61676, 61689, 12545, 51459, 49414, 61699, 61705, 61716, 61717, 61719, 4385, 61733, 43306, 49451, 4400, 74035, 4406, 49465, 61782, 61784, 61790, 61792, 76130, 61798, 61827, 61836, 10645, 76187, 61857, 61868, 61874, 61899, 61909, 61914, 86497, 61926, 84469, 84472, 84473, 84476, 53760, 70146, 33306, 80415, 37407, 84516, 33323, 82480, 21048, 6717, 62025, 14946, 45718, 47832, 47840, 47856, 70385, 47858, 58104, 774, 789, 4887, 25372, 68380, 806, 31528, 68401, 820, 68412, 29519, 858, 865, 874, 84857, 80767, 41860, 903, 39812, 45972, 935, 937, 37805, 9138, 35775, 35777, 989, 999, 1003, 7158, 61672, 1044, 21532, 1077, 44089, 48190, 60501, 29789, 7381, 31997, 60702, 29984, 46379, 46383, 60770, 60774, 77180, 30128, 56770, 60906, 56818, 73236, 46614, 65059, 30299, 30313, 30329, 71296, 71297, 30345, 24211, 32431, 9909, 55072, 80147, 8012, 30543, 30545, 22352, 34675, 3960, 44940, 6057, 61855, 75709, 8187, 41000, 41002, 30767, 58, 8254, 22610, 22621, 22629, 61571, 67718, 32910, 61582, 14496, 84135, 16556, 61607, 75966, 61629, 61648, 61678, 45305, 61698, 61704, 71950, 61708, 33046, 61721, 61729, 61737, 49464, 61748, 61750, 41281, 61769, 76117, 61817, 49543, 61833, 49548, 61847, 39320, 39326, 61878, 2517, 2519, 84477, 80394, 8734, 53806, 33334, 6722, 80486, 70273, 72368, 12991, 8931, 37665, 808, 845, 847, 862, 2911, 876, 886, 888, 80766, 901, 914, 76694, 925, 58271, 70575, 950, 962, 977, 979, 991, 76768, 994, 996, 995, 46069, 46071, 66548, 1028, 7180, 1046, 1056, 1057, 1059, 1067, 1092, 1093, 40019, 13411, 1143, 40067, 25747, 11415, 64695, 38071, 13551, 1269, 68877, 36116, 60759, 40293, 40307, 5492, 40308, 9642, 1449, 30122, 30127, 58095, 42436, 17395, 30176, 13813, 13816, 13819, 56831, 77318, 69133, 32278, 30273, 32324, 44619, 44620, 58957, 5729, 30312, 34412, 75393, 75394, 30344, 75399, 24212, 30382, 16097, 42734, 75514, 55036, 30498, 38711, 48963, 32581, 22351, 34678, 75676, 22628, 45163, 51322, 75923, 61598, 61599, 39074, 39075, 86224, 67837, 51455, 47363, 61715, 61724, 35102, 43303, 61744, 61758, 43334, 37230, 61834, 2465, 45495, 61905, 61915, 51682, 4603, 37376, 84478, 18982, 33322, 68143, 66097, 53817, 6718, 74323, 8826, 12927, 53893, 47768, 31402, 13039, 58109, 775, 792, 70443, 835, 848, 859, 23397, 875, 887, 889, 890, 80771, 910, 930, 936, 949, 951, 963, 76763, 33755, 990, 13280, 998, 1001, 1008, 46068, 1018, 1029, 1039, 1069, 1079, 1101, 1103, 40036, 61693, 38016, 64651, 13460, 38072, 13663, 13665, 40294, 40309, 77181, 68991, 21913, 30124, 56798, 38395, 38396, 69132, 83495, 26224, 75398, 30343, 75400, 30377, 38568, 32499, 38662, 38693, 79681, 30544, 36710, 73605, 6054, 6055, 71633, 41004, 22606, 61525, 22630, 34928, 75892, 39063, 30905, 16586, 80113, 61688, 51460, 61718, 4412, 61757, 61773, 49541, 84358, 55711, 45475, 39330, 76211, 4595, 4601, 25154, 21135, 23194, 8870, 47827, 47828, 773, 791, 33557, 821, 45938, 80772, 902, 19403, 976, 1007, 1009, 46070, 1010, 1026, 1027, 54278, 1040, 1081, 1094, 83013, 1125, 40062, 40085, 64696, 27884, 29950, 46437, 26007, 30136, 32218, 32222, 30261, 65088, 30381, 32460, 65238, 30432, 32520, 38694, 3968, 61335, 1946, 67512, 22513, 40954, 69650, 41001, 16516, 4264, 86377, 70114, 41617, 8871, 8882, 74508, 807, 70445, 80768, 37787, 13230, 52154, 965, 978, 1015, 1047, 1058, 1068, 1080, 64741, 60667, 32003, 68885, 30126, 30314, 30376, 69312, 30406, 30410, 80145, 44864, 38794, 8121, 16369, 61732, 61822, 34913, 61577, 26905, 61731, 84420, 61907, 47826, 912, 952, 1041, 83011, 3253, 29983, 40303, 36298, 1550, 30348, 30364, 30365, 32477, 36592, 30480, 75668, 75710, 75711, 40938, 40939, 39018, 938, 20415, 4260, 21249, 83009, 77392, 32343, 30363, 32519, 40814, 75995, 55450, 47266, 19241, 30244, 80142, 38798, 58374, 80148, 32574, 85219, 32285, 61843, 45268, 49013, 32397, 24254]\n",
      "Top5相似-基于倒排表\n",
      "问题： At what age did Frédéric move to Paris?\n",
      "答案： 21\n",
      "问题： At what age did Chopin move to Paris?\n",
      "答案： 21\n",
      "问题： At what age did Frédéric depart from Poland?\n",
      "答案： 20\n",
      "问题： Who was Frédéric's trusted adviser while in Paris?\n",
      "答案： Albert Grzymała\n",
      "问题： During what month did Frédéric move to Warsaw with his family?\n",
      "答案： October\n",
      "None\n"
     ]
    }
   ],
   "source": [
    "# TODO: 编写几个测试用例，并输出结果\n",
    "print (top5results_invidx(\"At what age did Frédéric move to Paris?\"))"
   ]
  },
  {
   "cell_type": "markdown",
   "metadata": {},
   "source": [
    "### 6 基于词向量的文本表示\n",
    "上面所用到的方法论是基于词袋模型（bag-of-words model）。这样的方法论有两个主要的问题：1. 无法计算词语之间的相似度  2. 稀疏度很高。 在2.7里面我们\n",
    "讲采用词向量作为文本的表示。词向量方面需要下载： https://nlp.stanford.edu/projects/glove/ （请下载glove.6B.zip），并使用d=100的词向量（100维）。\n"
   ]
  },
  {
   "cell_type": "code",
   "execution_count": null,
   "metadata": {},
   "outputs": [],
   "source": [
    "# TODO\n",
    "#读取每一个单词的嵌入。这个是 D*H的矩阵，这里的D是词典库的大小， H是词向量的大小。 这里面我们给定的每个单词的词向量，那句子向量怎么表达？      #其中，最简单的方式 句子向量 = 词向量的平均（出现在问句里的）， 如果给定的词没有出现在词典库里，则忽略掉这个词。\n",
    "#    给定用户输入的问题 input_q, 返回最有可能的TOP 5问题。这里面需要做到以下几点：\n",
    "#    1. 利用倒排表来筛选 candidate\n",
    "#    2. 对于用户的输入 input_q，转换成句子向量\n",
    "#    3. 计算跟每个库里的问题之间的相似度\n",
    "#    4. 找出相似度最高的top5问题的答案\n",
    "\n",
    "def top5results_emb(inputQuestion):\n",
    "    def get_vectorValue(keywordList):\n",
    "        filePath = \"./data/glove.6B/glove.6B.100d.txt\"\n",
    "        vectorValueList = []\n",
    "        with open(filePath, 'r', encoding='UTF-8') as r:\n",
    "            for line in r.readlines():\n",
    "                tmpLst = line.rstrip('\\n').split(\" \")\n",
    "                word = tmpLst[0]\n",
    "                if word in keywordList:\n",
    "                    vectorValueList.append([float(x) for x in tmpLst[1:]])\n",
    "        # 按关键词的平均，算句子的向量\n",
    "        vectorSum = np.sum(vectorValueList, axis=0)\n",
    "        return vectorSum / len(vectorValueList)\n",
    "    \n",
    "    inputQuestionKW = clean_words(inputQuestion)\n",
    "    # input Question中的keywords\n",
    "    input_question_vector = get_vectorValue(inputQuestionKW)\n",
    "    simiVDict = {}\n",
    "    filteredQuestionDict = filter_questionByInvertTab(inputQuestionKW, questionList, invertTable)\n",
    "    for idx, question in filteredQuestionDict.items():\n",
    "        # 取得当前问题的Vector值\n",
    "        filtered_question_vector = get_vectorValue(clean_words(question))\n",
    "        # 计算与输入问句的cos similarity\n",
    "        simiVDict[idx] = 1 - distance.cosine(input_question_vector, filtered_question_vector)\n",
    "\n",
    "    d = sorted(simiVDict, key=simiVDict.get, reverse=True)\n",
    "    print(d)\n",
    "    # Top5最相似问题对应的答案\n",
    "    print(\"计算Top5相似-基于词向量及倒排表\")\n",
    "    for idx in d[:5]:\n",
    "        print(\"问题：\" + questionList[idx])\n",
    "        print(\"答案：\" + answerList[idx])  "
   ]
  },
  {
   "cell_type": "code",
   "execution_count": null,
   "metadata": {},
   "outputs": [],
   "source": [
    "# TODO: 编写几个测试用例，并输出结果\n",
    "print (top5results_emb(\"At what age did Frédéric move to Paris?\"))\n",
    "# 我们在验收作业时在后台会建立几个测试用例，来验证返回的准确性。"
   ]
  },
  {
   "cell_type": "code",
   "execution_count": null,
   "metadata": {
    "collapsed": true
   },
   "outputs": [],
   "source": []
  },
  {
   "cell_type": "code",
   "execution_count": null,
   "metadata": {
    "collapsed": true
   },
   "outputs": [],
   "source": []
  },
  {
   "cell_type": "code",
   "execution_count": null,
   "metadata": {
    "collapsed": true
   },
   "outputs": [],
   "source": []
  },
  {
   "cell_type": "markdown",
   "metadata": {
    "collapsed": true
   },
   "source": []
  },
  {
   "cell_type": "code",
   "execution_count": null,
   "metadata": {
    "collapsed": true
   },
   "outputs": [],
   "source": []
  }
 ],
 "metadata": {
  "kernelspec": {
   "display_name": "Python 3",
   "language": "python",
   "name": "python3"
  },
  "language_info": {
   "codemirror_mode": {
    "name": "ipython",
    "version": 3
   },
   "file_extension": ".py",
   "mimetype": "text/x-python",
   "name": "python",
   "nbconvert_exporter": "python",
   "pygments_lexer": "ipython3",
   "version": "3.7.1"
  }
 },
 "nbformat": 4,
 "nbformat_minor": 2
}
